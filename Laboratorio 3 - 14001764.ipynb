{
 "cells": [
  {
   "cell_type": "markdown",
   "id": "f7137586-5869-4513-b9d7-eff6e70e0b78",
   "metadata": {
    "tags": []
   },
   "source": [
    "# <center>Laboratorio 3</center>\n",
    "\n",
    "#### ***Nombre***: Jose Eduardo Calderon Lopez\n",
    "#### ***Carnet***: 14001764\n",
    "\n",
    "<br>\n",
    "<hr>\n",
    "<br>"
   ]
  },
  {
   "cell_type": "markdown",
   "id": "9b535b27-fc93-4bcf-8d11-1d6bd1551952",
   "metadata": {
    "tags": []
   },
   "source": [
    "# Parte 1: Numpy"
   ]
  },
  {
   "cell_type": "code",
   "execution_count": 64,
   "id": "0af9db0d-8d18-40b8-9b41-cdd76e25fef6",
   "metadata": {
    "tags": []
   },
   "outputs": [],
   "source": [
    "import numpy as np"
   ]
  },
  {
   "cell_type": "markdown",
   "id": "11698696-d4f8-4f99-9024-4f311588ac00",
   "metadata": {
    "tags": []
   },
   "source": [
    "### 1. Ejercicio"
   ]
  },
  {
   "cell_type": "code",
   "execution_count": 6,
   "id": "ebff6d04-7fb9-4e93-83b0-6756ce8a6d16",
   "metadata": {
    "tags": []
   },
   "outputs": [
    {
     "name": "stdout",
     "output_type": "stream",
     "text": [
      "¿Cuál es el tamaño en bytes de un array de 1000 elementos de tipo booleano?\n",
      "Respuesta: 1000\n"
     ]
    }
   ],
   "source": [
    "arrayBools = np.random.choice([True, False], size=1000)\n",
    "\n",
    "print(\"¿Cuál es el tamaño en bytes de un array de 1000 elementos de tipo booleano?\")\n",
    "print(f\"Respuesta: {arrayBools.nbytes}\")"
   ]
  },
  {
   "cell_type": "markdown",
   "id": "22fd1974-ebc4-43bd-8de6-3e93e9e9b095",
   "metadata": {},
   "source": [
    "### 2. Ejercicio"
   ]
  },
  {
   "cell_type": "code",
   "execution_count": 17,
   "id": "b4f43f48-7552-4577-a220-8fe71d5246f5",
   "metadata": {
    "tags": []
   },
   "outputs": [
    {
     "name": "stdout",
     "output_type": "stream",
     "text": [
      "[20 18 16 14 12 10  8  6  4  2]\n"
     ]
    }
   ],
   "source": [
    "pares = np.arange(100,0,-2)\n",
    "\n",
    "print(pares[40:])"
   ]
  },
  {
   "cell_type": "markdown",
   "id": "2667d6bc-51c7-4cb0-96fb-97e505ec0516",
   "metadata": {},
   "source": [
    "### 3. Ejercicio"
   ]
  },
  {
   "cell_type": "code",
   "execution_count": 50,
   "id": "2dd8d1b3-c33b-45bc-9a9a-b9f9f326336a",
   "metadata": {
    "tags": []
   },
   "outputs": [
    {
     "name": "stdout",
     "output_type": "stream",
     "text": [
      "[0 3 7 4]\n",
      "\n",
      "[[2 5]\n",
      " [8 5]]\n"
     ]
    }
   ],
   "source": [
    "array = np.array([[2,4,5,6],[0,3,7,4],[8,8,5,2],[1,5,6,1]])\n",
    "\n",
    "subarray1 = array[1]\n",
    "subarray2 = array[[0,2],:][:,[0,2]]\n",
    "\n",
    "print(subarray1)\n",
    "print(\"\")\n",
    "print(subarray2)"
   ]
  },
  {
   "cell_type": "markdown",
   "id": "f5a03315-eb9f-40df-8d97-5afd9bdec482",
   "metadata": {},
   "source": [
    "### 4. Ejercicio"
   ]
  },
  {
   "cell_type": "code",
   "execution_count": 48,
   "id": "feb442c5-5a0a-45a5-95e3-68404e4e6385",
   "metadata": {
    "tags": []
   },
   "outputs": [
    {
     "name": "stdout",
     "output_type": "stream",
     "text": [
      "Media aritmética de a-b:\n",
      "-0.25\n"
     ]
    }
   ],
   "source": [
    "a = np.array([1, 4, 2, 7])\n",
    "b = np.array([1, 3, 2, 9])\n",
    "\n",
    "media = np.mean(a-b)\n",
    "\n",
    "print(f\"Media aritmética de a-b:\\n{media}\")"
   ]
  },
  {
   "cell_type": "markdown",
   "id": "1f92f5da-1651-4cd1-af9e-eefea798aca0",
   "metadata": {},
   "source": [
    "### 5. Ejercicio"
   ]
  },
  {
   "cell_type": "code",
   "execution_count": 75,
   "id": "abfb44e9-c3ec-4ff1-8536-410f27503339",
   "metadata": {
    "tags": []
   },
   "outputs": [
    {
     "name": "stdout",
     "output_type": "stream",
     "text": [
      "[[ 1.33  4.5 ]\n",
      " [30.   10.7 ]\n",
      " [70.2   0.5 ]\n",
      " [37.1  -3.6 ]]\n"
     ]
    }
   ],
   "source": [
    "coordenadas = np.array([[1.33,4.5],[30.0,10.7],[70.2,0.5]])\n",
    "\n",
    "coordenadas = np.append(coordenadas, [[37.1,-3.6]], axis=0)\n",
    "\n",
    "print(coordenadas)"
   ]
  },
  {
   "cell_type": "markdown",
   "id": "bad58e35-5d11-4ee7-8469-064c2826c6af",
   "metadata": {},
   "source": [
    "### 6. Ejercicio"
   ]
  },
  {
   "cell_type": "code",
   "execution_count": 87,
   "id": "5dca2fa8-95fe-40fa-9000-34ec1f216ac5",
   "metadata": {
    "tags": []
   },
   "outputs": [
    {
     "name": "stdout",
     "output_type": "stream",
     "text": [
      "[[ 1.33 30.   70.2  37.1  35.8 ]\n",
      " [ 4.5  10.7   0.5  -3.6  12.  ]]\n"
     ]
    }
   ],
   "source": [
    "transpose = np.transpose(coordenadas)\n",
    "\n",
    "transpose = np.append(transpose, [[35.8],[12.0]], axis=1)\n",
    "\n",
    "print(transpose)"
   ]
  },
  {
   "cell_type": "markdown",
   "id": "4cdae2cc-00c8-44c6-a197-07ba904ae01d",
   "metadata": {},
   "source": [
    "# Parte 2: Exploración y Minería de Datos"
   ]
  },
  {
   "cell_type": "code",
   "execution_count": 242,
   "id": "e9bb84a9-8077-4a61-aee5-fa98ca0674e1",
   "metadata": {
    "tags": []
   },
   "outputs": [],
   "source": [
    "import pandas as pd\n",
    "import matplotlib.pyplot as plt"
   ]
  },
  {
   "cell_type": "code",
   "execution_count": 260,
   "id": "df1d7ef0-e065-461f-95a0-6b967da5182b",
   "metadata": {
    "tags": []
   },
   "outputs": [],
   "source": [
    "datos = pd.read_csv('NucleosPoblacion.csv')\n",
    "\n",
    "# datos.head()"
   ]
  },
  {
   "cell_type": "markdown",
   "id": "dcf478d5-8bef-4c16-93a3-5673d761d0c4",
   "metadata": {},
   "source": [
    "### 1. Ejercicio"
   ]
  },
  {
   "cell_type": "code",
   "execution_count": 215,
   "id": "503c2dca-8733-48c1-84aa-e9a9519b6329",
   "metadata": {
    "tags": []
   },
   "outputs": [
    {
     "name": "stdout",
     "output_type": "stream",
     "text": [
      "Municipios con más de 100,000 habitantes\n",
      "Respuesta: 62\n"
     ]
    }
   ],
   "source": [
    "municipios = datos[datos['Poblacion'] > 100000]\n",
    "\n",
    "# display(municipios)\n",
    "\n",
    "print(f\"Municipios con más de 100,000 habitantes\\nRespuesta: {len(municipios)}\")"
   ]
  },
  {
   "cell_type": "markdown",
   "id": "a9535071-a7dd-4cb8-abea-d37d1b7b9ea5",
   "metadata": {},
   "source": [
    "### 2. Ejercicio"
   ]
  },
  {
   "cell_type": "code",
   "execution_count": 249,
   "id": "ab82b177-f9b7-44f3-9ee5-f5de394a9d3d",
   "metadata": {
    "tags": []
   },
   "outputs": [
    {
     "name": "stdout",
     "output_type": "stream",
     "text": [
      "¿Cuál es la segunda ciudad más poblada?\n",
      "Respuesta:  Barcelona\n"
     ]
    }
   ],
   "source": [
    "ordenPorCiudad = datos.sort_values(by='Poblacion')\n",
    "segundaCiudadMasPoblada = ordenPorCiudad.iloc[-2]['Municipio']\n",
    "\n",
    "print(\"¿Cuál es la segunda ciudad más poblada?\")\n",
    "print(\"Respuesta: \",segundaCiudadMasPoblada)"
   ]
  },
  {
   "cell_type": "code",
   "execution_count": 203,
   "id": "ec2f33a0-c390-4d7e-9083-e6983ca4ec1e",
   "metadata": {
    "tags": []
   },
   "outputs": [
    {
     "name": "stdout",
     "output_type": "stream",
     "text": [
      "¿Qué posición ocupa Granada en el ranking de las ciudades más pobladas?\n",
      "Respuesta: 835\n"
     ]
    }
   ],
   "source": [
    "ordenPorCiudad['Orden'] = range(1,len(ordenPorCiudad)+1)\n",
    "datosGranada = ordenPorCiudad[ordenPorCiudad['Municipio'] == 'Granada']\n",
    "posicionGranada = datosGranada['Orden'].iloc[0]\n",
    "\n",
    "print(\"¿Qué posición ocupa Granada en el ranking de las ciudades más pobladas?\")\n",
    "print(f\"Respuesta: {posicionGranada}\")"
   ]
  },
  {
   "cell_type": "markdown",
   "id": "4d7c22ca-e026-497b-99bf-8b5bb7149e31",
   "metadata": {},
   "source": [
    "### 3. Ejercicio"
   ]
  },
  {
   "cell_type": "code",
   "execution_count": 219,
   "id": "c995e890-c35a-4e8c-9343-ecbd1368aad3",
   "metadata": {
    "tags": []
   },
   "outputs": [
    {
     "name": "stdout",
     "output_type": "stream",
     "text": [
      "¿Cuántos municipios de Extremadura tienen más de 5000 habitantes?\n",
      "Respuesta: 0\n"
     ]
    }
   ],
   "source": [
    "masDe5000Extremadura = datos[(datos['Provincia'] == 'Extremadura') & (datos['Poblacion'] > 5000)]\n",
    "cantidad = len(masDe5000Extremadura)\n",
    "\n",
    "print(\"¿Cuántos municipios de Extremadura tienen más de 5000 habitantes?\")\n",
    "print(f\"Respuesta: {cantidad}\")"
   ]
  },
  {
   "cell_type": "markdown",
   "id": "c3c13911-8637-458f-b542-c486a7cf6e6c",
   "metadata": {},
   "source": [
    "### 4. Ejercicio"
   ]
  },
  {
   "cell_type": "code",
   "execution_count": 226,
   "id": "ea1d6d1e-5881-41bb-a2f9-a68c07be67f3",
   "metadata": {
    "tags": []
   },
   "outputs": [
    {
     "name": "stdout",
     "output_type": "stream",
     "text": [
      "¿Cuál es el municipio situado más al Norte?\n",
      "Municipio: Viveiro\n",
      "Provincia: Lugo\n",
      "Poblacion: 16211.0\n"
     ]
    }
   ],
   "source": [
    "# display(datos.head())\n",
    "\n",
    "orderY = datos.sort_values(by='Y').iloc[-1]\n",
    "municipio = orderY['Municipio']\n",
    "provincia = orderY['Provincia']\n",
    "poblacion = orderY['Poblacion']\n",
    "\n",
    "print(\"¿Cuál es el municipio situado más al Norte?\")\n",
    "print(f\"Municipio: {municipio}\")\n",
    "print(f\"Provincia: {provincia}\")\n",
    "print(f\"Poblacion: {poblacion}\")"
   ]
  },
  {
   "cell_type": "markdown",
   "id": "f12cff18-f660-4fd6-ad61-86f3132a0e6a",
   "metadata": {},
   "source": [
    "### 5. Ejercicio"
   ]
  },
  {
   "cell_type": "code",
   "execution_count": 241,
   "id": "e19e5d60-af05-46b5-b429-34c529fc72e3",
   "metadata": {
    "tags": []
   },
   "outputs": [
    {
     "name": "stdout",
     "output_type": "stream",
     "text": [
      "Obtenga la media, mediana, desviación estándar, valor máximo y valor mínimo de la población de los municipios de la provincia de Granada:\n",
      "Media: 30217.85\n",
      "Mediana: 17526.0\n",
      "Desviacion estandar: 50355.49171459277\n",
      "Maximo: 239154.0\n",
      "Minimo: 10386.0\n"
     ]
    }
   ],
   "source": [
    "municipiosGranada = datos[datos['Provincia'] == 'Granada']\n",
    "descPoblacion = municipiosGranada['Poblacion'].describe()\n",
    "\n",
    "print(\"Obtenga la media, mediana, desviación estándar, valor máximo y valor mínimo de la población de los municipios de la provincia de Granada:\")\n",
    "print(f\"Media: {descPoblacion['mean']}\")\n",
    "print(f\"Mediana: {descPoblacion['50%']}\")\n",
    "print(f\"Desviacion estandar: {descPoblacion['std']}\")\n",
    "print(f\"Maximo: {descPoblacion['max']}\")\n",
    "print(f\"Minimo: {descPoblacion['min']}\")"
   ]
  },
  {
   "cell_type": "markdown",
   "id": "807806e1-76ca-4ce7-a8f5-eee582f788af",
   "metadata": {},
   "source": [
    "### 6. Ejercicio"
   ]
  },
  {
   "cell_type": "code",
   "execution_count": 265,
   "id": "ea62023f-4a64-4520-b759-ff12db13feec",
   "metadata": {
    "tags": []
   },
   "outputs": [
    {
     "data": {
      "image/png": "[encoded data removed]",
      "text/plain": [
       "<Figure size 640x480 with 1 Axes>"
      ]
     },
     "metadata": {},
     "output_type": "display_data"
    }
   ],
   "source": [
    "provincias = datos['Provincia'].unique()\n",
    "\n",
    "for provincia in provincias:\n",
    "    poblacion = datos[datos['Provincia'] == provincia]['Poblacion']\n",
    "    plt.hist(poblacion, bins=20, alpha=0.5, label=provincia)\n",
    "\n",
    "plt.title(\"Poblacion por Provincia\")\n",
    "plt.grid()\n",
    "plt.xlabel('Poblacion')\n",
    "plt.ylabel('Frecuencia')\n",
    "# plt.legend()\n",
    "plt.show()\n"
   ]
  },
  {
   "cell_type": "markdown",
   "id": "c286e7bf-4a1a-46fc-b02d-c20119a9403b",
   "metadata": {},
   "source": [
    "### 7. Ejercicio"
   ]
  },
  {
   "cell_type": "code",
   "execution_count": 283,
   "id": "d4ea1173-9c18-4431-bfda-70d3aa1f9097",
   "metadata": {
    "tags": []
   },
   "outputs": [
    {
     "name": "stdout",
     "output_type": "stream",
     "text": [
      "Promedio: 35483.38\n",
      "Desviacion estandar: 42761.34502900238\n"
     ]
    }
   ],
   "source": [
    "municipios = datos.sample(n=50, replace=False)\n",
    "poblacion = municipios['Poblacion']\n",
    "\n",
    "# display(municipios)\n",
    "print(f\"Promedio: {poblacion.mean()}\")\n",
    "print(f\"Desviacion estandar: {poblacion.std()}\")"
   ]
  },
  {
   "cell_type": "markdown",
   "id": "8767c490-3c5b-4575-8e96-bd81d33d4695",
   "metadata": {},
   "source": [
    "### 8. Ejercicio"
   ]
  },
  {
   "cell_type": "code",
   "execution_count": null,
   "id": "3b42185e-6559-4425-a067-718ea748794b",
   "metadata": {},
   "outputs": [],
   "source": []
  }
 ],
 "metadata": {
  "kernelspec": {
   "display_name": "Python 3 (ipykernel)",
   "language": "python",
   "name": "python3"
  },
  "language_info": {
   "codemirror_mode": {
    "name": "ipython",
    "version": 3
   },
   "file_extension": ".py",
   "mimetype": "text/x-python",
   "name": "python",
   "nbconvert_exporter": "python",
   "pygments_lexer": "ipython3",
   "version": "3.11.5"
  }
 },
 "nbformat": 4,
 "nbformat_minor": 5
}
