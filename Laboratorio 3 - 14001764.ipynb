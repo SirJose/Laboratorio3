{
 "cells": [
  {
   "cell_type": "markdown",
   "id": "f7137586-5869-4513-b9d7-eff6e70e0b78",
   "metadata": {
    "tags": []
   },
   "source": [
    "# <center>Laboratorio 3</center>\n",
    "\n",
    "#### ***Nombre***: Jose Eduardo Calderon Lopez\n",
    "#### ***Carnet***: 14001764\n",
    "\n",
    "<br>\n",
    "<hr>\n",
    "<br>"
   ]
  },
  {
   "cell_type": "markdown",
   "id": "9b535b27-fc93-4bcf-8d11-1d6bd1551952",
   "metadata": {
    "tags": []
   },
   "source": [
    "# Parte 1: Numpy"
   ]
  },
  {
   "cell_type": "code",
   "execution_count": 64,
   "id": "0af9db0d-8d18-40b8-9b41-cdd76e25fef6",
   "metadata": {
    "tags": []
   },
   "outputs": [],
   "source": [
    "import numpy as np"
   ]
  },
  {
   "cell_type": "markdown",
   "id": "11698696-d4f8-4f99-9024-4f311588ac00",
   "metadata": {
    "tags": []
   },
   "source": [
    "### 1. Ejercicio"
   ]
  },
  {
   "cell_type": "code",
   "execution_count": 6,
   "id": "ebff6d04-7fb9-4e93-83b0-6756ce8a6d16",
   "metadata": {
    "tags": []
   },
   "outputs": [
    {
     "name": "stdout",
     "output_type": "stream",
     "text": [
      "¿Cuál es el tamaño en bytes de un array de 1000 elementos de tipo booleano?\n",
      "Respuesta: 1000\n"
     ]
    }
   ],
   "source": [
    "arrayBools = np.random.choice([True, False], size=1000)\n",
    "\n",
    "print(\"¿Cuál es el tamaño en bytes de un array de 1000 elementos de tipo booleano?\")\n",
    "print(f\"Respuesta: {arrayBools.nbytes}\")"
   ]
  },
  {
   "cell_type": "markdown",
   "id": "22fd1974-ebc4-43bd-8de6-3e93e9e9b095",
   "metadata": {},
   "source": [
    "### 2. Ejercicio"
   ]
  },
  {
   "cell_type": "code",
   "execution_count": 17,
   "id": "b4f43f48-7552-4577-a220-8fe71d5246f5",
   "metadata": {
    "tags": []
   },
   "outputs": [
    {
     "name": "stdout",
     "output_type": "stream",
     "text": [
      "[20 18 16 14 12 10  8  6  4  2]\n"
     ]
    }
   ],
   "source": [
    "pares = np.arange(100,0,-2)\n",
    "\n",
    "print(pares[40:])"
   ]
  },
  {
   "cell_type": "markdown",
   "id": "2667d6bc-51c7-4cb0-96fb-97e505ec0516",
   "metadata": {},
   "source": [
    "### 3. Ejercicio"
   ]
  },
  {
   "cell_type": "code",
   "execution_count": 50,
   "id": "2dd8d1b3-c33b-45bc-9a9a-b9f9f326336a",
   "metadata": {
    "tags": []
   },
   "outputs": [
    {
     "name": "stdout",
     "output_type": "stream",
     "text": [
      "[0 3 7 4]\n",
      "\n",
      "[[2 5]\n",
      " [8 5]]\n"
     ]
    }
   ],
   "source": [
    "array = np.array([[2,4,5,6],[0,3,7,4],[8,8,5,2],[1,5,6,1]])\n",
    "\n",
    "subarray1 = array[1]\n",
    "subarray2 = array[[0,2],:][:,[0,2]]\n",
    "\n",
    "print(subarray1)\n",
    "print(\"\")\n",
    "print(subarray2)"
   ]
  },
  {
   "cell_type": "markdown",
   "id": "f5a03315-eb9f-40df-8d97-5afd9bdec482",
   "metadata": {},
   "source": [
    "### 4. Ejercicio"
   ]
  },
  {
   "cell_type": "code",
   "execution_count": 48,
   "id": "feb442c5-5a0a-45a5-95e3-68404e4e6385",
   "metadata": {
    "tags": []
   },
   "outputs": [
    {
     "name": "stdout",
     "output_type": "stream",
     "text": [
      "Media aritmética de a-b:\n",
      "-0.25\n"
     ]
    }
   ],
   "source": [
    "a = np.array([1, 4, 2, 7])\n",
    "b = np.array([1, 3, 2, 9])\n",
    "\n",
    "media = np.mean(a-b)\n",
    "\n",
    "print(f\"Media aritmética de a-b:\\n{media}\")"
   ]
  },
  {
   "cell_type": "markdown",
   "id": "1f92f5da-1651-4cd1-af9e-eefea798aca0",
   "metadata": {},
   "source": [
    "### 5. Ejercicio"
   ]
  },
  {
   "cell_type": "code",
   "execution_count": 75,
   "id": "abfb44e9-c3ec-4ff1-8536-410f27503339",
   "metadata": {
    "tags": []
   },
   "outputs": [
    {
     "name": "stdout",
     "output_type": "stream",
     "text": [
      "[[ 1.33  4.5 ]\n",
      " [30.   10.7 ]\n",
      " [70.2   0.5 ]\n",
      " [37.1  -3.6 ]]\n"
     ]
    }
   ],
   "source": [
    "coordenadas = np.array([[1.33,4.5],[30.0,10.7],[70.2,0.5]])\n",
    "\n",
    "coordenadas = np.append(coordenadas, [[37.1,-3.6]], axis=0)\n",
    "\n",
    "print(coordenadas)"
   ]
  },
  {
   "cell_type": "markdown",
   "id": "bad58e35-5d11-4ee7-8469-064c2826c6af",
   "metadata": {},
   "source": [
    "### 6. Ejercicio"
   ]
  },
  {
   "cell_type": "code",
   "execution_count": 87,
   "id": "5dca2fa8-95fe-40fa-9000-34ec1f216ac5",
   "metadata": {
    "tags": []
   },
   "outputs": [
    {
     "name": "stdout",
     "output_type": "stream",
     "text": [
      "[[ 1.33 30.   70.2  37.1  35.8 ]\n",
      " [ 4.5  10.7   0.5  -3.6  12.  ]]\n"
     ]
    }
   ],
   "source": [
    "transpose = np.transpose(coordenadas)\n",
    "\n",
    "transpose = np.append(transpose, [[35.8],[12.0]], axis=1)\n",
    "\n",
    "print(transpose)"
   ]
  },
  {
   "cell_type": "markdown",
   "id": "4cdae2cc-00c8-44c6-a197-07ba904ae01d",
   "metadata": {},
   "source": [
    "# Parte 2: Exploración y Minería de Datos"
   ]
  }
 ],
 "metadata": {
  "kernelspec": {
   "display_name": "Python 3 (ipykernel)",
   "language": "python",
   "name": "python3"
  },
  "language_info": {
   "codemirror_mode": {
    "name": "ipython",
    "version": 3
   },
   "file_extension": ".py",
   "mimetype": "text/x-python",
   "name": "python",
   "nbconvert_exporter": "python",
   "pygments_lexer": "ipython3",
   "version": "3.11.5"
  }
 },
 "nbformat": 4,
 "nbformat_minor": 5
}
