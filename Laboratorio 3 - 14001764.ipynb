{
 "cells": [
  {
   "cell_type": "markdown",
   "id": "f7137586-5869-4513-b9d7-eff6e70e0b78",
   "metadata": {
    "tags": []
   },
   "source": [
    "# <center>Laboratorio 3</center>\n",
    "\n",
    "#### ***Nombre***: Jose Eduardo Calderon Lopez\n",
    "#### ***Carnet***: 14001764\n",
    "\n",
    "<br>\n",
    "<hr>\n",
    "<br>"
   ]
  },
  {
   "cell_type": "markdown",
   "id": "9b535b27-fc93-4bcf-8d11-1d6bd1551952",
   "metadata": {
    "tags": []
   },
   "source": [
    "# Parte 1: Numpy"
   ]
  },
  {
   "cell_type": "code",
   "execution_count": 64,
   "id": "0af9db0d-8d18-40b8-9b41-cdd76e25fef6",
   "metadata": {
    "tags": []
   },
   "outputs": [],
   "source": [
    "import numpy as np"
   ]
  },
  {
   "cell_type": "markdown",
   "id": "11698696-d4f8-4f99-9024-4f311588ac00",
   "metadata": {
    "tags": []
   },
   "source": [
    "### 1. Ejercicio"
   ]
  },
  {
   "cell_type": "code",
   "execution_count": 6,
   "id": "ebff6d04-7fb9-4e93-83b0-6756ce8a6d16",
   "metadata": {
    "tags": []
   },
   "outputs": [
    {
     "name": "stdout",
     "output_type": "stream",
     "text": [
      "¿Cuál es el tamaño en bytes de un array de 1000 elementos de tipo booleano?\n",
      "Respuesta: 1000\n"
     ]
    }
   ],
   "source": [
    "arrayBools = np.random.choice([True, False], size=1000)\n",
    "\n",
    "print(\"¿Cuál es el tamaño en bytes de un array de 1000 elementos de tipo booleano?\")\n",
    "print(f\"Respuesta: {arrayBools.nbytes}\")"
   ]
  },
  {
   "cell_type": "markdown",
   "id": "22fd1974-ebc4-43bd-8de6-3e93e9e9b095",
   "metadata": {},
   "source": [
    "### 2. Ejercicio"
   ]
  },
  {
   "cell_type": "code",
   "execution_count": 17,
   "id": "b4f43f48-7552-4577-a220-8fe71d5246f5",
   "metadata": {
    "tags": []
   },
   "outputs": [
    {
     "name": "stdout",
     "output_type": "stream",
     "text": [
      "[20 18 16 14 12 10  8  6  4  2]\n"
     ]
    }
   ],
   "source": [
    "pares = np.arange(100,0,-2)\n",
    "\n",
    "print(pares[40:])"
   ]
  },
  {
   "cell_type": "markdown",
   "id": "2667d6bc-51c7-4cb0-96fb-97e505ec0516",
   "metadata": {},
   "source": [
    "### 3. Ejercicio"
   ]
  },
  {
   "cell_type": "code",
   "execution_count": 50,
   "id": "2dd8d1b3-c33b-45bc-9a9a-b9f9f326336a",
   "metadata": {
    "tags": []
   },
   "outputs": [
    {
     "name": "stdout",
     "output_type": "stream",
     "text": [
      "[0 3 7 4]\n",
      "\n",
      "[[2 5]\n",
      " [8 5]]\n"
     ]
    }
   ],
   "source": [
    "array = np.array([[2,4,5,6],[0,3,7,4],[8,8,5,2],[1,5,6,1]])\n",
    "\n",
    "subarray1 = array[1]\n",
    "subarray2 = array[[0,2],:][:,[0,2]]\n",
    "\n",
    "print(subarray1)\n",
    "print(\"\")\n",
    "print(subarray2)"
   ]
  },
  {
   "cell_type": "markdown",
   "id": "f5a03315-eb9f-40df-8d97-5afd9bdec482",
   "metadata": {},
   "source": [
    "### 4. Ejercicio"
   ]
  },
  {
   "cell_type": "code",
   "execution_count": 48,
   "id": "feb442c5-5a0a-45a5-95e3-68404e4e6385",
   "metadata": {
    "tags": []
   },
   "outputs": [
    {
     "name": "stdout",
     "output_type": "stream",
     "text": [
      "Media aritmética de a-b:\n",
      "-0.25\n"
     ]
    }
   ],
   "source": [
    "a = np.array([1, 4, 2, 7])\n",
    "b = np.array([1, 3, 2, 9])\n",
    "\n",
    "media = np.mean(a-b)\n",
    "\n",
    "print(f\"Media aritmética de a-b:\\n{media}\")"
   ]
  },
  {
   "cell_type": "markdown",
   "id": "1f92f5da-1651-4cd1-af9e-eefea798aca0",
   "metadata": {},
   "source": [
    "### 5. Ejercicio"
   ]
  },
  {
   "cell_type": "code",
   "execution_count": 75,
   "id": "abfb44e9-c3ec-4ff1-8536-410f27503339",
   "metadata": {
    "tags": []
   },
   "outputs": [
    {
     "name": "stdout",
     "output_type": "stream",
     "text": [
      "[[ 1.33  4.5 ]\n",
      " [30.   10.7 ]\n",
      " [70.2   0.5 ]\n",
      " [37.1  -3.6 ]]\n"
     ]
    }
   ],
   "source": [
    "coordenadas = np.array([[1.33,4.5],[30.0,10.7],[70.2,0.5]])\n",
    "\n",
    "coordenadas = np.append(coordenadas, [[37.1,-3.6]], axis=0)\n",
    "\n",
    "print(coordenadas)"
   ]
  },
  {
   "cell_type": "markdown",
   "id": "bad58e35-5d11-4ee7-8469-064c2826c6af",
   "metadata": {},
   "source": [
    "### 6. Ejercicio"
   ]
  },
  {
   "cell_type": "code",
   "execution_count": 87,
   "id": "5dca2fa8-95fe-40fa-9000-34ec1f216ac5",
   "metadata": {
    "tags": []
   },
   "outputs": [
    {
     "name": "stdout",
     "output_type": "stream",
     "text": [
      "[[ 1.33 30.   70.2  37.1  35.8 ]\n",
      " [ 4.5  10.7   0.5  -3.6  12.  ]]\n"
     ]
    }
   ],
   "source": [
    "transpose = np.transpose(coordenadas)\n",
    "\n",
    "transpose = np.append(transpose, [[35.8],[12.0]], axis=1)\n",
    "\n",
    "print(transpose)"
   ]
  },
  {
   "cell_type": "markdown",
   "id": "4cdae2cc-00c8-44c6-a197-07ba904ae01d",
   "metadata": {},
   "source": [
    "# Parte 2: Exploración y Minería de Datos"
   ]
  },
  {
   "cell_type": "code",
   "execution_count": 88,
   "id": "e9bb84a9-8077-4a61-aee5-fa98ca0674e1",
   "metadata": {
    "tags": []
   },
   "outputs": [],
   "source": [
    "import pandas as pd"
   ]
  },
  {
   "cell_type": "code",
   "execution_count": 214,
   "id": "df1d7ef0-e065-461f-95a0-6b967da5182b",
   "metadata": {
    "tags": []
   },
   "outputs": [
    {
     "data": {
      "text/html": [
       "<div>\n",
       "<style scoped>\n",
       "    .dataframe tbody tr th:only-of-type {\n",
       "        vertical-align: middle;\n",
       "    }\n",
       "\n",
       "    .dataframe tbody tr th {\n",
       "        vertical-align: top;\n",
       "    }\n",
       "\n",
       "    .dataframe thead th {\n",
       "        text-align: right;\n",
       "    }\n",
       "</style>\n",
       "<table border=\"1\" class=\"dataframe\">\n",
       "  <thead>\n",
       "    <tr style=\"text-align: right;\">\n",
       "      <th></th>\n",
       "      <th>FID</th>\n",
       "      <th>OBJECTID</th>\n",
       "      <th>Texto</th>\n",
       "      <th>Poblacion</th>\n",
       "      <th>CodMun</th>\n",
       "      <th>Municipio</th>\n",
       "      <th>CodProvin</th>\n",
       "      <th>Provincia</th>\n",
       "      <th>X</th>\n",
       "      <th>Y</th>\n",
       "    </tr>\n",
       "  </thead>\n",
       "  <tbody>\n",
       "    <tr>\n",
       "      <th>0</th>\n",
       "      <td>0</td>\n",
       "      <td>1</td>\n",
       "      <td>Agüimes</td>\n",
       "      <td>29431.0</td>\n",
       "      <td>35002</td>\n",
       "      <td>Agüimes</td>\n",
       "      <td>35</td>\n",
       "      <td>Las Palmas</td>\n",
       "      <td>-15.446012</td>\n",
       "      <td>27.900542</td>\n",
       "    </tr>\n",
       "    <tr>\n",
       "      <th>1</th>\n",
       "      <td>1</td>\n",
       "      <td>2</td>\n",
       "      <td>Antigua</td>\n",
       "      <td>10458.0</td>\n",
       "      <td>35003</td>\n",
       "      <td>Antigua</td>\n",
       "      <td>35</td>\n",
       "      <td>Las Palmas</td>\n",
       "      <td>-14.013301</td>\n",
       "      <td>28.418966</td>\n",
       "    </tr>\n",
       "    <tr>\n",
       "      <th>2</th>\n",
       "      <td>2</td>\n",
       "      <td>3</td>\n",
       "      <td>Arrecife</td>\n",
       "      <td>58156.0</td>\n",
       "      <td>35004</td>\n",
       "      <td>Arrecife</td>\n",
       "      <td>35</td>\n",
       "      <td>Las Palmas</td>\n",
       "      <td>-13.551451</td>\n",
       "      <td>28.960649</td>\n",
       "    </tr>\n",
       "    <tr>\n",
       "      <th>3</th>\n",
       "      <td>3</td>\n",
       "      <td>4</td>\n",
       "      <td>Arucas</td>\n",
       "      <td>36745.0</td>\n",
       "      <td>35006</td>\n",
       "      <td>Arucas</td>\n",
       "      <td>35</td>\n",
       "      <td>Las Palmas</td>\n",
       "      <td>-15.521512</td>\n",
       "      <td>28.117496</td>\n",
       "    </tr>\n",
       "    <tr>\n",
       "      <th>4</th>\n",
       "      <td>4</td>\n",
       "      <td>5</td>\n",
       "      <td>Gáldar</td>\n",
       "      <td>24473.0</td>\n",
       "      <td>35009</td>\n",
       "      <td>Gáldar</td>\n",
       "      <td>35</td>\n",
       "      <td>Las Palmas</td>\n",
       "      <td>-15.654111</td>\n",
       "      <td>28.143873</td>\n",
       "    </tr>\n",
       "  </tbody>\n",
       "</table>\n",
       "</div>"
      ],
      "text/plain": [
       "   FID  OBJECTID     Texto  Poblacion  CodMun Municipio  CodProvin  \\\n",
       "0    0         1   Agüimes    29431.0   35002   Agüimes         35   \n",
       "1    1         2   Antigua    10458.0   35003   Antigua         35   \n",
       "2    2         3  Arrecife    58156.0   35004  Arrecife         35   \n",
       "3    3         4    Arucas    36745.0   35006    Arucas         35   \n",
       "4    4         5    Gáldar    24473.0   35009    Gáldar         35   \n",
       "\n",
       "    Provincia          X          Y  \n",
       "0  Las Palmas -15.446012  27.900542  \n",
       "1  Las Palmas -14.013301  28.418966  \n",
       "2  Las Palmas -13.551451  28.960649  \n",
       "3  Las Palmas -15.521512  28.117496  \n",
       "4  Las Palmas -15.654111  28.143873  "
      ]
     },
     "execution_count": 214,
     "metadata": {},
     "output_type": "execute_result"
    }
   ],
   "source": [
    "datos = pd.read_csv('NucleosPoblacion.csv')\n",
    "\n",
    "datos.head()"
   ]
  },
  {
   "cell_type": "markdown",
   "id": "dcf478d5-8bef-4c16-93a3-5673d761d0c4",
   "metadata": {},
   "source": [
    "### 1. Ejercicio"
   ]
  },
  {
   "cell_type": "code",
   "execution_count": 215,
   "id": "503c2dca-8733-48c1-84aa-e9a9519b6329",
   "metadata": {
    "tags": []
   },
   "outputs": [
    {
     "name": "stdout",
     "output_type": "stream",
     "text": [
      "Municipios con más de 100,000 habitantes\n",
      "Respuesta: 62\n"
     ]
    }
   ],
   "source": [
    "municipios = datos[datos['Poblacion'] > 100000]\n",
    "\n",
    "# display(municipios)\n",
    "\n",
    "print(f\"Municipios con más de 100,000 habitantes\\nRespuesta: {len(municipios)}\")"
   ]
  },
  {
   "cell_type": "markdown",
   "id": "a9535071-a7dd-4cb8-abea-d37d1b7b9ea5",
   "metadata": {},
   "source": [
    "### 2. Ejercicio"
   ]
  },
  {
   "cell_type": "code",
   "execution_count": 201,
   "id": "ab82b177-f9b7-44f3-9ee5-f5de394a9d3d",
   "metadata": {
    "tags": []
   },
   "outputs": [
    {
     "name": "stdout",
     "output_type": "stream",
     "text": [
      "¿Cuál es la segunda ciudad más poblada?\n",
      "Respuesta:  Barcelona\n"
     ]
    }
   ],
   "source": [
    "ordenPorCiudad = datos.sort_values(by='Poblacion')\n",
    "segundaCiudadMasPoblada = ordenPorCiudad.iloc[-2]['Municipio']\n",
    "\n",
    "print(\"¿Cuál es la segunda ciudad más poblada?\")\n",
    "print(\"Respuesta: \",segundaCiudadMasPoblada)"
   ]
  },
  {
   "cell_type": "code",
   "execution_count": 203,
   "id": "ec2f33a0-c390-4d7e-9083-e6983ca4ec1e",
   "metadata": {
    "tags": []
   },
   "outputs": [
    {
     "name": "stdout",
     "output_type": "stream",
     "text": [
      "¿Qué posición ocupa Granada en el ranking de las ciudades más pobladas?\n",
      "Respuesta: 835\n"
     ]
    }
   ],
   "source": [
    "ordenPorCiudad['Orden'] = range(1,len(ordenPorCiudad)+1)\n",
    "datosGranada = ordenPorCiudad[ordenPorCiudad['Municipio'] == 'Granada']\n",
    "posicionGranada = datosGranada['Orden'].iloc[0]\n",
    "\n",
    "print(\"¿Qué posición ocupa Granada en el ranking de las ciudades más pobladas?\")\n",
    "print(f\"Respuesta: {posicionGranada}\")"
   ]
  },
  {
   "cell_type": "markdown",
   "id": "4d7c22ca-e026-497b-99bf-8b5bb7149e31",
   "metadata": {},
   "source": [
    "### 3. Ejercicio"
   ]
  },
  {
   "cell_type": "code",
   "execution_count": 218,
   "id": "c995e890-c35a-4e8c-9343-ecbd1368aad3",
   "metadata": {
    "tags": []
   },
   "outputs": [
    {
     "name": "stdout",
     "output_type": "stream",
     "text": [
      "¿Cuántos municipios de Extremadura tienen más de 5000 habitantes?\n",
      "Respuesta: 0\n"
     ]
    }
   ],
   "source": [
    "masDe5000Extremadura = datos[(datos['Provincia'] == 'Extremadura') & (datos['Poblacion'] > 5000)]\n",
    "cantidad = len(masDe5000Extremadura)\n",
    "\n",
    "print(\"¿Cuántos municipios de Extremadura tienen más de 5000 habitantes?\")\n",
    "print(f\"Respuesta: {cantidad}\")"
   ]
  }
 ],
 "metadata": {
  "kernelspec": {
   "display_name": "Python 3 (ipykernel)",
   "language": "python",
   "name": "python3"
  },
  "language_info": {
   "codemirror_mode": {
    "name": "ipython",
    "version": 3
   },
   "file_extension": ".py",
   "mimetype": "text/x-python",
   "name": "python",
   "nbconvert_exporter": "python",
   "pygments_lexer": "ipython3",
   "version": "3.11.5"
  }
 },
 "nbformat": 4,
 "nbformat_minor": 5
}
