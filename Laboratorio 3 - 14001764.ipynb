{
 "cells": [
  {
   "cell_type": "markdown",
   "id": "f7137586-5869-4513-b9d7-eff6e70e0b78",
   "metadata": {
    "tags": []
   },
   "source": [
    "# <center>Laboratorio 3</center>\n",
    "\n",
    "#### ***Nombre***: Jose Eduardo Calderon Lopez\n",
    "#### ***Carnet***: 14001764\n",
    "\n",
    "<br>\n",
    "<hr>\n",
    "<br>"
   ]
  }
 ],
 "metadata": {
  "kernelspec": {
   "display_name": "Python 3 (ipykernel)",
   "language": "python",
   "name": "python3"
  },
  "language_info": {
   "codemirror_mode": {
    "name": "ipython",
    "version": 3
   },
   "file_extension": ".py",
   "mimetype": "text/x-python",
   "name": "python",
   "nbconvert_exporter": "python",
   "pygments_lexer": "ipython3",
   "version": "3.11.5"
  }
 },
 "nbformat": 4,
 "nbformat_minor": 5
}
